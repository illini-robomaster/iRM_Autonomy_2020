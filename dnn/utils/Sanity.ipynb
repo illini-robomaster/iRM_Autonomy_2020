{
 "cells": [
  {
   "cell_type": "code",
   "execution_count": 2,
   "metadata": {
    "tags": []
   },
   "outputs": [
    {
     "output_type": "stream",
     "name": "stdout",
     "text": "2.1.0\n"
    }
   ],
   "source": [
    "import os,glob\n",
    "import numpy as np\n",
    "import matplotlib.pyplot as plt\n",
    "import matplotlib.mlab as mlab\n",
    "from matplotlib.patches import Rectangle\n",
    "import pickle\n",
    "import cv2\n",
    "import tensorflow as tf\n",
    "print(tf.__version__)"
   ]
  },
  {
   "cell_type": "code",
   "execution_count": 3,
   "metadata": {},
   "outputs": [],
   "source": [
    "from yolo_encoder import *\n",
    "encoder = yoloEncoder()"
   ]
  },
  {
   "cell_type": "code",
   "execution_count": 4,
   "metadata": {
    "scrolled": true
   },
   "outputs": [
    {
     "output_type": "error",
     "ename": "NameError",
     "evalue": "name 'plt' is not defined",
     "traceback": [
      "\u001b[1;31m---------------------------------------------------------------------------\u001b[0m",
      "\u001b[1;31mNameError\u001b[0m                                 Traceback (most recent call last)",
      "\u001b[1;32m<ipython-input-4-23237f62fa13>\u001b[0m in \u001b[0;36m<module>\u001b[1;34m\u001b[0m\n\u001b[0;32m     30\u001b[0m                   class_colors[bb[-2] - 1], 2)\n\u001b[0;32m     31\u001b[0m \u001b[1;33m\u001b[0m\u001b[0m\n\u001b[1;32m---> 32\u001b[1;33m \u001b[0mplt\u001b[0m\u001b[1;33m.\u001b[0m\u001b[0mfigure\u001b[0m\u001b[1;33m(\u001b[0m\u001b[1;33m)\u001b[0m\u001b[1;33m\u001b[0m\u001b[1;33m\u001b[0m\u001b[0m\n\u001b[0m\u001b[0;32m     33\u001b[0m \u001b[0mplt\u001b[0m\u001b[1;33m.\u001b[0m\u001b[0mimshow\u001b[0m\u001b[1;33m(\u001b[0m\u001b[0mtest_images\u001b[0m\u001b[1;33m[\u001b[0m\u001b[1;36m0\u001b[0m\u001b[1;33m]\u001b[0m\u001b[1;33m)\u001b[0m\u001b[1;33m\u001b[0m\u001b[1;33m\u001b[0m\u001b[0m\n\u001b[0;32m     34\u001b[0m \u001b[0mexample_bbs\u001b[0m \u001b[1;33m=\u001b[0m \u001b[0mnp\u001b[0m\u001b[1;33m.\u001b[0m\u001b[0marray\u001b[0m\u001b[1;33m(\u001b[0m\u001b[0mexample_bbs\u001b[0m\u001b[1;33m,\u001b[0m\u001b[0mdtype\u001b[0m\u001b[1;33m=\u001b[0m\u001b[0mnp\u001b[0m\u001b[1;33m.\u001b[0m\u001b[0mfloat32\u001b[0m\u001b[1;33m)\u001b[0m\u001b[1;33m\u001b[0m\u001b[1;33m\u001b[0m\u001b[0m\n",
      "\u001b[1;31mNameError\u001b[0m: name 'plt' is not defined"
     ]
    }
   ],
   "source": [
    "n = 1\n",
    "test_images = np.random.random([n, encoder.img_size, encoder.img_size, 3])\n",
    "\n",
    "class_colors = [\"cc8888\", \"d8c400\", \"36989a\", \"18941a\", \"632340\"]\n",
    "class_colors = list(\n",
    "    map(lambda h: tuple(int(h[i:i + 2], 16) for i in (0, 2, 4)), class_colors))\n",
    "\n",
    "# [(bbxy1,bbxy2,class,best anchor)]\n",
    "example_bbs = [[\n",
    "    0, 0, int(encoder.img_size / 2),\n",
    "    int(encoder.img_size / 2), 1, 0],\n",
    "    [\n",
    "                   int(encoder.img_size / 4),\n",
    "                   int(encoder.img_size / 4),\n",
    "                   int(encoder.img_size * 3 / 4),\n",
    "                   int(encoder.img_size * 3 / 4), 2, 0],\n",
    "    [\n",
    "        int(encoder.img_size / 8),\n",
    "        int(encoder.img_size / 8),\n",
    "        int(encoder.img_size * 3 / 8),\n",
    "        int(encoder.img_size * 3 / 8), 3, 0\n",
    "    ]]\n",
    "\n",
    "for i, bb in enumerate(example_bbs):\n",
    "    bb_dim = np.array((bb[2], bb[3])) - (bb[0], bb[1])\n",
    "    fitness = list(\n",
    "        map(lambda anch: np.sum(abs(bb_dim - anch)), YOLO_TINY_ANCHORS))\n",
    "    example_bbs[i][-1] = np.argmin(fitness)\n",
    "    cv2.rectangle(test_images[0], (bb[0], bb[1]), (bb[2], bb[3]),\n",
    "                  class_colors[bb[-2] - 1], 2)\n",
    "\n",
    "plt.figure()\n",
    "plt.imshow(test_images[0])\n",
    "example_bbs = np.array(example_bbs,dtype=np.float32)\n",
    "example_bbs[:,0:4]/=encoder.img_size\n",
    "example_bbs = tf.convert_to_tensor(example_bbs,dtype = tf.float32)\n",
    "print(\"example_bbs:\", example_bbs)"
   ]
  },
  {
   "cell_type": "code",
   "execution_count": null,
   "metadata": {},
   "outputs": [],
   "source": [
    "scale=1\n",
    "yolo_label = encoder.transform_label_for_output(example_bbs,\n",
    "                                                grid_size=13*scale,\n",
    "                                                masks=YOLO_TINY_ANCHOR_MASKS[scale-1])"
   ]
  },
  {
   "cell_type": "code",
   "execution_count": null,
   "metadata": {},
   "outputs": [],
   "source": [
    "for x in range(13):\n",
    "    for y in range(13):\n",
    "        for z in range(3):\n",
    "            if yolo_label[x,y,z,4] != 0:\n",
    "                print(yolo_label[x,y,z,])"
   ]
  },
  {
   "cell_type": "code",
   "execution_count": null,
   "metadata": {},
   "outputs": [],
   "source": []
  }
 ],
 "metadata": {
  "kernelspec": {
   "display_name": "Python 3.7.7 64-bit ('deep_stock': conda)",
   "language": "python",
   "name": "python37764bitdeepstockconda6a65e5110688433ea1dd1a73ca9a87ac"
  },
  "language_info": {
   "codemirror_mode": {
    "name": "ipython",
    "version": 3
   },
   "file_extension": ".py",
   "mimetype": "text/x-python",
   "name": "python",
   "nbconvert_exporter": "python",
   "pygments_lexer": "ipython3",
   "version": "3.7.7-final"
  },
  "latex_envs": {
   "LaTeX_envs_menu_present": true,
   "autoclose": true,
   "autocomplete": true,
   "bibliofile": "biblio.bib",
   "cite_by": "apalike",
   "current_citInitial": 1,
   "eqLabelWithNumbers": true,
   "eqNumInitial": 1,
   "hotkeys": {
    "equation": "Ctrl-E",
    "itemize": "Ctrl-I"
   },
   "labels_anchors": false,
   "latex_user_defs": false,
   "report_style_numbering": false,
   "user_envs_cfg": false
  },
  "varInspector": {
   "cols": {
    "lenName": 16,
    "lenType": 16,
    "lenVar": 40
   },
   "kernels_config": {
    "python": {
     "delete_cmd_postfix": "",
     "delete_cmd_prefix": "del ",
     "library": "var_list.py",
     "varRefreshCmd": "print(var_dic_list())"
    },
    "r": {
     "delete_cmd_postfix": ") ",
     "delete_cmd_prefix": "rm(",
     "library": "var_list.r",
     "varRefreshCmd": "cat(var_dic_list()) "
    }
   },
   "types_to_exclude": [
    "module",
    "function",
    "builtin_function_or_method",
    "instance",
    "_Feature"
   ],
   "window_display": false
  }
 },
 "nbformat": 4,
 "nbformat_minor": 4
}