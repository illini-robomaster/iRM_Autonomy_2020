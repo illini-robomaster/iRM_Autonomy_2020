{
 "cells": [
  {
   "cell_type": "markdown",
   "metadata": {},
   "source": [
    "# Visualizer for dataset in TFRecord"
   ]
  },
  {
   "cell_type": "code",
   "execution_count": null,
   "metadata": {},
   "outputs": [],
   "source": [
    "import cv2\n",
    "import os\n",
    "import sys\n",
    "\n",
    "import matplotlib.pyplot as plt\n",
    "import numpy as np\n",
    "import tensorflow as tf\n",
    "\n",
    "from dnn.data.converters.utils import CLASS_NAMES\n",
    "\n",
    "%matplotlib inline"
   ]
  },
  {
   "cell_type": "code",
   "execution_count": null,
   "metadata": {},
   "outputs": [],
   "source": [
    "IMAGE_FEATURE_MAP = {\n",
    "    'image': tf.io.FixedLenFeature([], tf.string),\n",
    "    'class_n': tf.io.FixedLenFeature([], tf.string),\n",
    "    'bbox_yxyx_n4': tf.io.FixedLenFeature([], tf.string),\n",
    "}\n",
    "\n",
    "\n",
    "def _parse_image_function(example_proto):\n",
    "    examples = tf.io.parse_single_example(example_proto, IMAGE_FEATURE_MAP)\n",
    "    return examples\n",
    "\n",
    "\n",
    "def draw_outputs(img, class_n, bbox_yxyx_n4, class_names):\n",
    "    for class_id, bbox_yxyx in zip(class_n, bbox_yxyx_n4):\n",
    "        x1y1 = (bbox_yxyx[1], bbox_yxyx[0])\n",
    "        x2y2 = (bbox_yxyx[3], bbox_yxyx[2])\n",
    "        img = cv2.rectangle(img, x1y1, x2y2, (255, 0, 0), 2)\n",
    "        img = cv2.putText(img, f'{class_names[class_id]}', \n",
    "                          x1y1, cv2.FONT_HERSHEY_COMPLEX_SMALL, 1, (0, 248, 248), 2)\n",
    "    return img"
   ]
  },
  {
   "cell_type": "code",
   "execution_count": null,
   "metadata": {},
   "outputs": [],
   "source": [
    "# modify input_path to visualize for other tfrecord files\n",
    "input_path = '/tmp/purdue_data/train/shard-0.tfrecord'\n",
    "data_set = tf.data.TFRecordDataset(input_path).map(_parse_image_function)\n",
    "data_source = iter(data_set)"
   ]
  },
  {
   "cell_type": "code",
   "execution_count": null,
   "metadata": {},
   "outputs": [],
   "source": [
    "# repeatedly calling this cell will iterate through different data samples\n",
    "image_features = next(data_source)\n",
    "image_raw = tf.io.decode_image(image_features['image'], channels=3)\n",
    "class_n = tf.io.parse_tensor(image_features['class_n'], tf.int32)\n",
    "bbox_yxyx_n4 = tf.io.parse_tensor(image_features['bbox_yxyx_n4'], tf.float32)\n",
    "img = draw_outputs(image_raw.numpy(), class_n, bbox_yxyx_n4, CLASS_NAMES)\n",
    "plt.figure(figsize=(18,9))\n",
    "plt.imshow(img)"
   ]
  }
 ],
 "metadata": {
  "kernelspec": {
   "display_name": "Python 3",
   "language": "python",
   "name": "python3"
  },
  "language_info": {
   "codemirror_mode": {
    "name": "ipython",
    "version": 3
   },
   "file_extension": ".py",
   "mimetype": "text/x-python",
   "name": "python",
   "nbconvert_exporter": "python",
   "pygments_lexer": "ipython3",
   "version": "3.6.9"
  }
 },
 "nbformat": 4,
 "nbformat_minor": 4
}
