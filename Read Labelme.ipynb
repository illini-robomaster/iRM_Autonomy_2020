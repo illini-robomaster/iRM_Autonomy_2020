{
 "cells": [
  {
   "cell_type": "code",
   "execution_count": 55,
   "metadata": {},
   "outputs": [
    {
     "name": "stdout",
     "output_type": "stream",
     "text": [
      "infantry-red-back-ev-+3-0.jpg  infantry-red-back-ev-+3-0.json\r\n"
     ]
    }
   ],
   "source": [
    "import numpy as np\n",
    "from scipy import signal\n",
    "from scipy.interpolate import interp1d\n",
    "from scipy.signal import butter, filtfilt, iirdesign, zpk2tf, freqz\n",
    "import h5py\n",
    "import json\n",
    "\n",
    "%matplotlib widget\n",
    "%config InlineBackend.figure_format = 'retina'\n",
    "import matplotlib.pyplot as plt\n",
    "import matplotlib.mlab as mlab\n",
    "!ls ./labels"
   ]
  },
  {
   "cell_type": "code",
   "execution_count": 56,
   "metadata": {
    "scrolled": true
   },
   "outputs": [
    {
     "name": "stdout",
     "output_type": "stream",
     "text": [
      "{'version': '3.16.7', 'flags': {}, 'shapes': [{'label': 'red_armor', 'line_color': None, 'fill_color': None, 'points': [[940.9937888198757, 498.44720496894405], [940.6832298136645, 513.3540372670807], [970.1863354037266, 512.4223602484471], [969.5652173913043, 498.44720496894405]], 'shape_type': 'polygon', 'flags': {}}], 'lineColor': [0, 255, 0, 128], 'fillColor': [255, 0, 0, 128], 'imagePath': '..\\\\Image\\\\infantry-red-back-ev-+3-0.jpg', 'imageData': '', 'imageHeight': 1080, 'imageWidth': 1920}\n",
      "[[940.9937888198757, 498.44720496894405], [940.6832298136645, 513.3540372670807], [970.1863354037266, 512.4223602484471], [969.5652173913043, 498.44720496894405]]\n"
     ]
    },
    {
     "data": {
      "application/vnd.jupyter.widget-view+json": {
       "model_id": "bb6a7551842d461cb535ef75b68674f5",
       "version_major": 2,
       "version_minor": 0
      },
      "text/plain": [
       "Canvas(toolbar=Toolbar(toolitems=[('Home', 'Reset original view', 'home', 'home'), ('Back', 'Back to previous …"
      ]
     },
     "metadata": {},
     "output_type": "display_data"
    },
    {
     "data": {
      "text/plain": [
       "(array([[[197., 209., 213.],\n",
       "         [194., 206., 210.],\n",
       "         [191., 203., 207.],\n",
       "         ...,\n",
       "         [201., 208., 217.],\n",
       "         [202., 209., 218.],\n",
       "         [203., 210., 219.]],\n",
       " \n",
       "        [[196., 208., 212.],\n",
       "         [193., 205., 209.],\n",
       "         [190., 202., 206.],\n",
       "         ...,\n",
       "         [201., 208., 217.],\n",
       "         [202., 209., 218.],\n",
       "         [203., 210., 219.]],\n",
       " \n",
       "        [[196., 208., 212.],\n",
       "         [193., 205., 209.],\n",
       "         [190., 202., 206.],\n",
       "         ...,\n",
       "         [201., 208., 217.],\n",
       "         [201., 208., 217.],\n",
       "         [202., 209., 218.]],\n",
       " \n",
       "        ...,\n",
       " \n",
       "        [[182., 192., 175.],\n",
       "         [182., 192., 175.],\n",
       "         [182., 192., 175.],\n",
       "         ...,\n",
       "         [183., 201., 188.],\n",
       "         [184., 203., 188.],\n",
       "         [184., 203., 188.]],\n",
       " \n",
       "        [[182., 192., 175.],\n",
       "         [182., 192., 175.],\n",
       "         [181., 191., 174.],\n",
       "         ...,\n",
       "         [183., 201., 188.],\n",
       "         [184., 203., 188.],\n",
       "         [184., 203., 188.]],\n",
       " \n",
       "        [[183., 193., 176.],\n",
       "         [182., 192., 175.],\n",
       "         [181., 191., 174.],\n",
       "         ...,\n",
       "         [183., 201., 188.],\n",
       "         [184., 203., 188.],\n",
       "         [184., 203., 188.]]], dtype=float32),\n",
       " [[[[940.9937888198757, 498.44720496894405],\n",
       "    [940.6832298136645, 513.3540372670807],\n",
       "    [970.1863354037266, 512.4223602484471],\n",
       "    [969.5652173913043, 498.44720496894405]]]])"
      ]
     },
     "execution_count": 56,
     "metadata": {},
     "output_type": "execute_result"
    }
   ],
   "source": [
    "import cv2\n",
    "\n",
    "def read_pair(path,visualize=False):\n",
    "    with open(path+'.json', 'r') as f:\n",
    "        label_dict = json.load(f)\n",
    "        image=cv2.imread(path+'.jpg')\n",
    "\n",
    "        label_dict['imageData']=''\n",
    "        print(label_dict)\n",
    "        polys=[]\n",
    "        for s in label_dict['shapes']:\n",
    "            pts = s['points']\n",
    "            polys.append([pts])\n",
    "            print(pts)\n",
    "            pts=np.array(pts,np.int32)\n",
    "            pts = pts.reshape((-1,1,2))\n",
    "            cv2.polylines(image,[pts],True,(0,255,255))\n",
    "            \n",
    "        image=image.astype(np.float32)\n",
    "        if visualize:\n",
    "            plt.imshow(image/255.)\n",
    "        return image,polys\n",
    "        \n",
    "read_pair('./labels/infantry-red-back-ev-+3-0',visualize=True)"
   ]
  },
  {
   "cell_type": "code",
   "execution_count": 59,
   "metadata": {},
   "outputs": [
    {
     "name": "stdout",
     "output_type": "stream",
     "text": [
      "{'version': '3.16.7', 'flags': {}, 'shapes': [{'label': 'red_armor', 'line_color': None, 'fill_color': None, 'points': [[940.9937888198757, 498.44720496894405], [940.6832298136645, 513.3540372670807], [970.1863354037266, 512.4223602484471], [969.5652173913043, 498.44720496894405]], 'shape_type': 'polygon', 'flags': {}}], 'lineColor': [0, 255, 0, 128], 'fillColor': [255, 0, 0, 128], 'imagePath': '..\\\\Image\\\\infantry-red-back-ev-+3-0.jpg', 'imageData': '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"
     ]
    },
    {
     "data": {
      "text/html": [
       "<b>limit_output extension: Maximum message size of 10000 exceeded with 163196 characters</b>"
      ]
     },
     "metadata": {},
     "output_type": "display_data"
    }
   ],
   "source": [
    "def mass_rename(path,oldname,newname):\n",
    "    with open(path+'.json', 'r+') as f:\n",
    "        label_str = str(json.load(f))\n",
    "        print(label_str)\n",
    "        label_str=label_str.replace(oldname,newname)\n",
    "        f.seek(0)\n",
    "        f.write(label_str)\n",
    "        f.truncate()\n",
    "\n",
    "mass_rename('./labels/infantry-red-back-ev-+3-0','Enemy','blue_armor') "
   ]
  },
  {
   "cell_type": "code",
   "execution_count": 14,
   "metadata": {},
   "outputs": [
    {
     "name": "stdout",
     "output_type": "stream",
     "text": [
      "Figure(640x480)\r\n"
     ]
    }
   ],
   "source": [
    "!labelme_draw_json ./labels/infantry-red-back-ev-+3-0.json"
   ]
  },
  {
   "cell_type": "code",
   "execution_count": null,
   "metadata": {},
   "outputs": [],
   "source": []
  },
  {
   "cell_type": "code",
   "execution_count": null,
   "metadata": {},
   "outputs": [],
   "source": []
  }
 ],
 "metadata": {
  "kernelspec": {
   "display_name": "Python 3",
   "language": "python",
   "name": "python3"
  },
  "language_info": {
   "codemirror_mode": {
    "name": "ipython",
    "version": 3
   },
   "file_extension": ".py",
   "mimetype": "text/x-python",
   "name": "python",
   "nbconvert_exporter": "python",
   "pygments_lexer": "ipython3",
   "version": "3.7.3"
  },
  "latex_envs": {
   "LaTeX_envs_menu_present": true,
   "autoclose": true,
   "autocomplete": true,
   "bibliofile": "biblio.bib",
   "cite_by": "apalike",
   "current_citInitial": 1,
   "eqLabelWithNumbers": true,
   "eqNumInitial": 1,
   "hotkeys": {
    "equation": "Ctrl-E",
    "itemize": "Ctrl-I"
   },
   "labels_anchors": false,
   "latex_user_defs": false,
   "report_style_numbering": false,
   "user_envs_cfg": false
  },
  "varInspector": {
   "cols": {
    "lenName": 16,
    "lenType": 16,
    "lenVar": 40
   },
   "kernels_config": {
    "python": {
     "delete_cmd_postfix": "",
     "delete_cmd_prefix": "del ",
     "library": "var_list.py",
     "varRefreshCmd": "print(var_dic_list())"
    },
    "r": {
     "delete_cmd_postfix": ") ",
     "delete_cmd_prefix": "rm(",
     "library": "var_list.r",
     "varRefreshCmd": "cat(var_dic_list()) "
    }
   },
   "types_to_exclude": [
    "module",
    "function",
    "builtin_function_or_method",
    "instance",
    "_Feature"
   ],
   "window_display": false
  }
 },
 "nbformat": 4,
 "nbformat_minor": 2
}
